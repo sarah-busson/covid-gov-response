{
 "cells": [
  {
   "cell_type": "code",
   "execution_count": 85,
   "metadata": {},
   "outputs": [],
   "source": [
    "import requests\n",
    "from bs4 import BeautifulSoup\n",
    "import pandas as pd\n",
    "import re"
   ]
  },
  {
   "cell_type": "code",
   "execution_count": 86,
   "metadata": {},
   "outputs": [],
   "source": [
    "url = 'https://en.wikipedia.org/wiki/List_of_elected_and_appointed_female_heads_of_state_and_government'\n",
    "html = requests.get(url).content\n",
    "\n",
    "soup = BeautifulSoup(html, \"lxml\")"
   ]
  },
  {
   "cell_type": "code",
   "execution_count": 87,
   "metadata": {},
   "outputs": [
    {
     "data": {
      "text/plain": [
       "{'Germany': 1,\n",
       " 'Bangladesh': 1,\n",
       " 'Norway': 1,\n",
       " 'Namibia': 1,\n",
       " 'Nepal': 1,\n",
       " 'Myanmar': 1,\n",
       " 'Taiwan': 1,\n",
       " 'Estonia': 1,\n",
       " 'Serbia': 1,\n",
       " 'Singapore': 1,\n",
       " 'New Zealand': 1,\n",
       " 'Iceland': 1,\n",
       " 'Trinidad and Tobago': 1,\n",
       " 'Barbados': 1,\n",
       " 'Ethiopia': 1,\n",
       " 'Georgia': 1,\n",
       " 'Slovakia': 1,\n",
       " 'Denmark': 1,\n",
       " 'Belgium': 1,\n",
       " 'Bolivia': 1,\n",
       " 'Finland': 1,\n",
       " 'Greece': 1,\n",
       " 'Gabon': 1}"
      ]
     },
     "execution_count": 87,
     "metadata": {},
     "output_type": "execute_result"
    }
   ],
   "source": [
    "table = soup.find_all('table', {'class':'wikitable sortable'})[0]\n",
    "type(table)\n",
    "\n",
    "cols = table.find_all('th')\n",
    "cols = [col.text.strip() for col in cols]\n",
    "\n",
    "rows = table.find_all('tr')\n",
    "row2 = [row.find_all('td') for row in rows]\n",
    "#rows = [row.text.strip() for row in rows]\n",
    "row3 = [[r.text.strip() for r in row] for row in row2]\n",
    "row3\n",
    "\n",
    "df = pd.DataFrame(row3[1:], columns = cols)\n",
    "\n",
    "current_fl = df[df['Mandate end'] == 'Incumbent']\n",
    "current_fl\n",
    "\n",
    "country_fl = list(current_fl['Country'])\n",
    "country_fl[6] = 'Taiwan'\n",
    "\n",
    "f_leader = {}\n",
    "\n",
    "for country in country_fl:\n",
    "    f_leader[country] = 1\n",
    "\n",
    "f_leader\n",
    "\n",
    "\n"
   ]
  },
  {
   "cell_type": "code",
   "execution_count": 88,
   "metadata": {},
   "outputs": [
    {
     "data": {
      "text/plain": [
       "['Germany',\n",
       " 'Bangladesh',\n",
       " 'Norway',\n",
       " 'Namibia',\n",
       " 'Nepal',\n",
       " 'Myanmar',\n",
       " 'Taiwan',\n",
       " 'Estonia',\n",
       " 'Serbia',\n",
       " 'Singapore',\n",
       " 'New Zealand',\n",
       " 'Iceland',\n",
       " 'Trinidad and Tobago',\n",
       " 'Barbados',\n",
       " 'Ethiopia',\n",
       " 'Georgia',\n",
       " 'Slovakia',\n",
       " 'Denmark',\n",
       " 'Belgium',\n",
       " 'Bolivia',\n",
       " 'Finland',\n",
       " 'Greece',\n",
       " 'Gabon']"
      ]
     },
     "execution_count": 88,
     "metadata": {},
     "output_type": "execute_result"
    }
   ],
   "source": [
    "country_fl"
   ]
  },
  {
   "cell_type": "code",
   "execution_count": null,
   "metadata": {},
   "outputs": [],
   "source": []
  }
 ],
 "metadata": {
  "kernelspec": {
   "display_name": "Python 3",
   "language": "python",
   "name": "python3"
  },
  "language_info": {
   "codemirror_mode": {
    "name": "ipython",
    "version": 3
   },
   "file_extension": ".py",
   "mimetype": "text/x-python",
   "name": "python",
   "nbconvert_exporter": "python",
   "pygments_lexer": "ipython3",
   "version": "3.7.6"
  }
 },
 "nbformat": 4,
 "nbformat_minor": 4
}
